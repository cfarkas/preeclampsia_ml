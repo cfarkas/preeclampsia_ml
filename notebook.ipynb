{
 "cells": [
  {
   "cell_type": "markdown",
   "id": "4c7070f8-dd49-4a02-b88f-5f0bccbf2711",
   "metadata": {},
   "source": [
    "## Mi Primer Notebook"
   ]
  },
  {
   "cell_type": "code",
   "execution_count": 1,
   "id": "32f952a0-3e65-46a8-89a9-cdfdb06f99e5",
   "metadata": {},
   "outputs": [],
   "source": [
    "## Mi Primer Notebook. El Hash como en R, sirve para comentarios. "
   ]
  },
  {
   "cell_type": "code",
   "execution_count": 2,
   "id": "2d4fbcbf-684f-40cb-8819-cff65cdfa915",
   "metadata": {},
   "outputs": [],
   "source": [
    "## Comentar códigos es muy importante porque un código sin comentar es ilegible, y por ende inservible."
   ]
  },
  {
   "cell_type": "code",
   "execution_count": 3,
   "id": "a31f7729-7f61-441b-9392-3d97fc9f52b5",
   "metadata": {},
   "outputs": [],
   "source": [
    "## Cargando Librerías\n",
    "\n",
    "# Librería Numérica de Python\n",
    "import numpy as np\n",
    "\n",
    "# Librería Científica de Python\n",
    "import scipy as sp\n",
    "\n",
    "# Librería para manipular dataframes\n",
    "import pandas as pd"
   ]
  },
  {
   "cell_type": "code",
   "execution_count": 4,
   "id": "c42236ce-ee9e-44f3-86aa-143eb6526db4",
   "metadata": {},
   "outputs": [
    {
     "name": "stdout",
     "output_type": "stream",
     "text": [
      "Requirement already satisfied: pingouin in c:\\users\\carlo\\appdata\\roaming\\python\\python313\\site-packages (0.5.5)\n",
      "Requirement already satisfied: statsmodels in c:\\programdata\\anaconda3\\lib\\site-packages (0.14.4)\n",
      "Requirement already satisfied: scikit-learn in c:\\programdata\\anaconda3\\lib\\site-packages (1.6.1)\n",
      "Requirement already satisfied: seaborn in c:\\programdata\\anaconda3\\lib\\site-packages (0.13.2)\n",
      "Requirement already satisfied: matplotlib in c:\\programdata\\anaconda3\\lib\\site-packages (3.10.0)\n",
      "Requirement already satisfied: numpy in c:\\programdata\\anaconda3\\lib\\site-packages (from pingouin) (2.1.3)\n",
      "Requirement already satisfied: pandas>=1.5 in c:\\programdata\\anaconda3\\lib\\site-packages (from pingouin) (2.2.3)\n",
      "Requirement already satisfied: pandas-flavor in c:\\users\\carlo\\appdata\\roaming\\python\\python313\\site-packages (from pingouin) (0.7.0)\n",
      "Requirement already satisfied: scipy in c:\\programdata\\anaconda3\\lib\\site-packages (from pingouin) (1.15.3)\n",
      "Requirement already satisfied: tabulate in c:\\programdata\\anaconda3\\lib\\site-packages (from pingouin) (0.9.0)\n",
      "Requirement already satisfied: patsy>=0.5.6 in c:\\programdata\\anaconda3\\lib\\site-packages (from statsmodels) (1.0.1)\n",
      "Requirement already satisfied: packaging>=21.3 in c:\\programdata\\anaconda3\\lib\\site-packages (from statsmodels) (24.2)\n",
      "Requirement already satisfied: joblib>=1.2.0 in c:\\programdata\\anaconda3\\lib\\site-packages (from scikit-learn) (1.4.2)\n",
      "Requirement already satisfied: threadpoolctl>=3.1.0 in c:\\programdata\\anaconda3\\lib\\site-packages (from scikit-learn) (3.5.0)\n",
      "Requirement already satisfied: contourpy>=1.0.1 in c:\\programdata\\anaconda3\\lib\\site-packages (from matplotlib) (1.3.1)\n",
      "Requirement already satisfied: cycler>=0.10 in c:\\programdata\\anaconda3\\lib\\site-packages (from matplotlib) (0.11.0)\n",
      "Requirement already satisfied: fonttools>=4.22.0 in c:\\programdata\\anaconda3\\lib\\site-packages (from matplotlib) (4.55.3)\n",
      "Requirement already satisfied: kiwisolver>=1.3.1 in c:\\programdata\\anaconda3\\lib\\site-packages (from matplotlib) (1.4.8)\n",
      "Requirement already satisfied: pillow>=8 in c:\\programdata\\anaconda3\\lib\\site-packages (from matplotlib) (11.1.0)\n",
      "Requirement already satisfied: pyparsing>=2.3.1 in c:\\programdata\\anaconda3\\lib\\site-packages (from matplotlib) (3.2.0)\n",
      "Requirement already satisfied: python-dateutil>=2.7 in c:\\programdata\\anaconda3\\lib\\site-packages (from matplotlib) (2.9.0.post0)\n",
      "Requirement already satisfied: pytz>=2020.1 in c:\\programdata\\anaconda3\\lib\\site-packages (from pandas>=1.5->pingouin) (2024.1)\n",
      "Requirement already satisfied: tzdata>=2022.7 in c:\\programdata\\anaconda3\\lib\\site-packages (from pandas>=1.5->pingouin) (2025.2)\n",
      "Requirement already satisfied: six>=1.5 in c:\\programdata\\anaconda3\\lib\\site-packages (from python-dateutil>=2.7->matplotlib) (1.17.0)\n",
      "Requirement already satisfied: xarray in c:\\programdata\\anaconda3\\lib\\site-packages (from pandas-flavor->pingouin) (2025.4.0)\n"
     ]
    }
   ],
   "source": [
    "# Jupyter Notebook requiere una exclamación para instalar paquetes via pip install NOMBRE_DE_PAQUETE\n",
    "!pip install pingouin statsmodels scikit-learn seaborn matplotlib"
   ]
  },
  {
   "cell_type": "markdown",
   "id": "4ef9efb1-abea-4252-9195-9b25a9842203",
   "metadata": {},
   "source": [
    "## Install and Running Example Dataset for Preeclampsia"
   ]
  },
  {
   "cell_type": "code",
   "execution_count": 5,
   "id": "10630ba7-cdf8-4936-87c2-636aa56ebc64",
   "metadata": {},
   "outputs": [
    {
     "name": "stdout",
     "output_type": "stream",
     "text": [
     ]
    }
   ],
   "source": [
   ]
  },
  {
   "cell_type": "markdown",
   "id": "9251f1eb-b7d9-464a-a741-40d6c7299fa4",
   "metadata": {},
   "source": [
    "#### 1. Installing Environment from https://github.com/cfarkas/preeclampsia_ml - Esperar hasta que el asterisco [*] desaparezca!"
   ]
  },
  {
   "cell_type": "code",
   "execution_count": 6,
   "id": "ff64f516-5c4f-4754-acb9-2bf58d9c644a",
   "metadata": {},
   "outputs": [
    {
     "name": "stdout",
     "output_type": "stream",
     "text": [
      "[INFO] Conda env 'ml_preeclampsia' already exists.\n"
     ]
    }
   ],
   "source": [
    "%run main.py --install_conda"
   ]
  },
  {
   "cell_type": "markdown",
   "id": "5e79d4bb-2390-477e-9f1d-55b3799eaac9",
   "metadata": {},
   "source": [
    "#### 2. Run the full pipeline"
   ]
  },
  {
   "cell_type": "code",
   "execution_count": 7,
   "id": "b84ac95d-5ea3-44c1-a7cf-36e402ec59cc",
   "metadata": {
    "scrolled": true
   },
   "outputs": [
    {
     "name": "stderr",
     "output_type": "stream",
     "text": [
      "  File \"C:\\ProgramData\\anaconda3\\Lib\\site-packages\\joblib\\externals\\loky\\backend\\context.py\", line 257, in _count_physical_cores\n",
      "    cpu_info = subprocess.run(\n",
      "        \"wmic CPU Get NumberOfCores /Format:csv\".split(),\n",
      "        capture_output=True,\n",
      "        text=True,\n",
      "    )\n",
      "  File \"C:\\ProgramData\\anaconda3\\Lib\\subprocess.py\", line 554, in run\n",
      "    with Popen(*popenargs, **kwargs) as process:\n",
      "         ~~~~~^^^^^^^^^^^^^^^^^^^^^^\n",
      "  File \"C:\\ProgramData\\anaconda3\\Lib\\subprocess.py\", line 1039, in __init__\n",
      "    self._execute_child(args, executable, preexec_fn, close_fds,\n",
      "    ~~~~~~~~~~~~~~~~~~~^^^^^^^^^^^^^^^^^^^^^^^^^^^^^^^^^^^^^^^^^\n",
      "                        pass_fds, cwd, env,\n",
      "                        ^^^^^^^^^^^^^^^^^^^\n",
      "    ...<5 lines>...\n",
      "                        gid, gids, uid, umask,\n",
      "                        ^^^^^^^^^^^^^^^^^^^^^^\n",
      "                        start_new_session, process_group)\n",
      "                        ^^^^^^^^^^^^^^^^^^^^^^^^^^^^^^^^^\n",
      "  File \"C:\\ProgramData\\anaconda3\\Lib\\subprocess.py\", line 1554, in _execute_child\n",
      "    hp, ht, pid, tid = _winapi.CreateProcess(executable, args,\n",
      "                       ~~~~~~~~~~~~~~~~~~~~~^^^^^^^^^^^^^^^^^^\n",
      "                             # no special security\n",
      "                             ^^^^^^^^^^^^^^^^^^^^^\n",
      "    ...<4 lines>...\n",
      "                             cwd,\n",
      "                             ^^^^\n",
      "                             startupinfo)\n",
      "                             ^^^^^^^^^^^^\n"
     ]
    },
    {
     "name": "stdout",
     "output_type": "stream",
     "text": [
      "\n",
      "[INFO] All outputs written to: ./runs/preeclampsia_example/\n",
      "\n"
     ]
    }
   ],
   "source": [
    "### 2. Run the full pipeline\n",
    "%run main.py --input dataframe.csv --output ./runs/preeclampsia_example/"
   ]
  },
  {
   "cell_type": "markdown",
   "id": "d1916933-91ab-4951-b714-dc57686ef195",
   "metadata": {},
   "source": [
    "#### 3. Running Dataset_Pregnancy_Outcomes"
   ]
  },
  {
   "cell_type": "code",
   "execution_count": 8,
   "id": "38a93890-abf2-406e-a3e3-545ac25112e9",
   "metadata": {},
   "outputs": [
    {
     "name": "stdout",
     "output_type": "stream",
     "text": [
      "\n",
      "[INFO] All outputs written to: runs/preg_all_pca\n",
      "\n"
     ]
    }
   ],
   "source": [
    "# Dataset_Pregnancy_Outcomes\n",
    "%run main_agnostic.py \\\n",
    "  --input \"Dataset_Pregnancy_Outcomes.csv\" \\\n",
    "  --output \"runs/preg_all_pca\" \\\n",
    "  --outcomes \"Class_PTB,Class_Macrosomia\" \\\n",
    "  --drop-missing \\\n",
    "  --pca \\\n",
    "  --width_fig1 28 --height_fig1 22 \\\n",
    "  --width_fig2 18 --height_fig2 6 \\\n",
    "  --width_fig3 22 --height_fig3 16"
   ]
  },
  {
   "cell_type": "markdown",
   "id": "a286be21-3c30-4ddb-b877-8a23cbb44f1a",
   "metadata": {},
   "source": [
    "#### 4. Running Dataset_Pregnancy_Outcomes - exclude third‑trimester predictors, and replace missing predictors with zeros"
   ]
  },
  {
   "cell_type": "code",
   "execution_count": 9,
   "id": "e78882d5-06eb-4a1f-9a77-1be65966ba83",
   "metadata": {},
   "outputs": [
    {
     "name": "stdout",
     "output_type": "stream",
     "text": [
      "[INFO] Applied subset: gdm_yes -> Class_GDM (1=no, 2=yes) == 2\n",
      "[INFO] Dropping 5 third-trimester columns (contains '3T').\n",
      "\n",
      "[INFO] All outputs written to: runs/preg_gdm_yes_no3T_zeros\n",
      "\n"
     ]
    }
   ],
   "source": [
    "# Dataset_Pregnancy_Outcomes: GDM = yes only, exclude third‑trimester predictors, and replace missing predictors with zeros:\n",
    "%run main_agnostic.py \\\n",
    "  --input \"Dataset_Pregnancy_Outcomes.csv\" \\\n",
    "  --output \"runs/preg_gdm_yes_no3T_zeros\" \\\n",
    "  --outcomes \"Class_PTB,Class_Macrosomia\" \\\n",
    "  --subset gdm_yes \\\n",
    "  --exclude_3T \\\n",
    "  --replace-with-zeros \\\n",
    "  --pca \\\n",
    "  --width_fig1 28 --height_fig1 22 \\\n",
    "  --width_fig2 18 --height_fig2 6 \\\n",
    "  --width_fig3 22 --height_fig3 16"
   ]
  },
  {
   "cell_type": "markdown",
   "id": "1db13199-1aaf-4045-bd8d-524567900b82",
   "metadata": {},
   "source": [
    "#### 5. Running Child Obesity"
   ]
  },
  {
   "cell_type": "code",
   "execution_count": 10,
   "id": "39fb79cd-9834-4527-890e-4fb7b4275d55",
   "metadata": {},
   "outputs": [
    {
     "name": "stdout",
     "output_type": "stream",
     "text": [
      "[INFO] Missing-mode=drop: removed 279 rows for 'Clase_Sexo_1F_2M'.\n",
      "[INFO] Missing-mode=drop: removed 279 rows for 'Clase_FTO_0WT_1HET_2MUT'.\n",
      "[INFO] Missing-mode=drop: removed 279 rows for 'Clase_Sexo_1F_2M'.\n",
      "[INFO] Missing-mode=drop: removed 279 rows for 'Clase_FTO_0WT_1HET_2MUT'.\n",
      "\n",
      "[INFO] All outputs written to: runs/child_all_pca\n",
      "\n"
     ]
    }
   ],
   "source": [
    "# Child Obesity\n",
    "%run main_agnostic.py \\\n",
    "  --input \"Dataset_Child_Obesity.csv\" \\\n",
    "  --output \"runs/child_all_pca\" \\\n",
    "  --outcomes \"Clase_Sexo_1F_2M,Clase_FTO_0WT_1HET_2MUT\" \\\n",
    "  --drop-missing \\\n",
    "  --pca \\\n",
    "  --imp_dot_scale 1200 --imp_dot_min 16 \\\n",
    "  --width_fig1 22 --height_fig1 22 \\\n",
    "  --width_fig2 14 --height_fig2 4 \\\n",
    "  --width_fig3 18 --height_fig3 10"
   ]
  },
  {
   "cell_type": "markdown",
   "id": "38287157-e0c7-43b5-ae65-d47038f05953",
   "metadata": {},
   "source": [
    "#### 6. Running Child Obesity - Girls only, predict FTO, and ensure neither Sex nor FTO are used as predictors"
   ]
  },
  {
   "cell_type": "code",
   "execution_count": 11,
   "id": "8743a7d8-b6dd-4222-aecd-142e585e4474",
   "metadata": {},
   "outputs": [
    {
     "name": "stdout",
     "output_type": "stream",
     "text": [
      "[INFO] Excluding Child Obesity label columns from predictors: ['Clase_Sexo_1F_2M', 'Clase_FTO_0WT_1HET_2MUT']\n",
      "\n",
      "[INFO] All outputs written to: runs/child_girls_fto_nolabelsX\n",
      "\n"
     ]
    }
   ],
   "source": [
    "# Child Obesity: Girls only, predict FTO, and ensure neither Sex nor FTO are used as predictors:\n",
    "%run main_agnostic.py \\\n",
    "  --input \"Dataset_Child_Obesity.csv\" \\\n",
    "  --output \"runs/child_girls_fto_nolabelsX\" \\\n",
    "  --outcomes \"Clase_FTO_0WT_1HET_2MUT\" \\\n",
    "  --exclude_co_labels \\\n",
    "  --replace-with-zeros \\\n",
    "  --pca \\\n",
    "  --imp_dot_scale 1200 --imp_dot_min 16 \\\n",
    "  --width_fig1 22 --height_fig1 22 \\\n",
    "  --width_fig2 14 --height_fig2 4 \\\n",
    "  --width_fig3 18 --height_fig3 10"
   ]
  },
  {
   "cell_type": "code",
   "execution_count": null,
   "id": "720e084f-59b7-48e9-a819-e837c7bbebc3",
   "metadata": {},
   "outputs": [],
   "source": []
  }
 ],
 "metadata": {
  "kernelspec": {
   "display_name": "Python 3 (ipykernel)",
   "language": "python",
   "name": "python3"
  },
  "language_info": {
   "codemirror_mode": {
    "name": "ipython",
    "version": 3
   },
   "file_extension": ".py",
   "mimetype": "text/x-python",
   "name": "python",
   "nbconvert_exporter": "python",
   "pygments_lexer": "ipython3",
   "version": "3.13.5"
  }
 },
 "nbformat": 4,
 "nbformat_minor": 5
}
