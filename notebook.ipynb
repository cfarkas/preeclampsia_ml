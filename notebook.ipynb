{
 "cells": [
  {
   "cell_type": "markdown",
   "id": "4c7070f8-dd49-4a02-b88f-5f0bccbf2711",
   "metadata": {},
   "source": [
    "## Mi Primer Notebook"
   ]
  },
  {
   "cell_type": "code",
   "execution_count": null,
   "id": "32f952a0-3e65-46a8-89a9-cdfdb06f99e5",
   "metadata": {},
   "outputs": [],
   "source": [
    "## Mi Primer Notebook. El Hash como en R, sirve para comentarios. "
   ]
  },
  {
   "cell_type": "code",
   "execution_count": null,
   "id": "2d4fbcbf-684f-40cb-8819-cff65cdfa915",
   "metadata": {},
   "outputs": [],
   "source": [
    "## Comentar códigos es muy importante porque un código sin comentar es ilegible, y por ende inservible."
   ]
  },
  {
   "cell_type": "code",
   "execution_count": null,
   "id": "a31f7729-7f61-441b-9392-3d97fc9f52b5",
   "metadata": {},
   "outputs": [],
   "source": [
    "## Cargando Librerías\n",
    "\n",
    "# Librería Numérica de Python\n",
    "import numpy as np\n",
    "\n",
    "# Librería Científica de Python\n",
    "import scipy as sp\n",
    "\n",
    "# Librería para manipular dataframes\n",
    "import pandas as pd"
   ]
  },
  {
   "cell_type": "code",
   "execution_count": null,
   "id": "c42236ce-ee9e-44f3-86aa-143eb6526db4",
   "metadata": {},
   "outputs": [],
   "source": [
    "# Jupyter Notebook requiere una exclamación para instalar paquetes via pip install NOMBRE_DE_PAQUETE\n",
    "!pip install pingouin statsmodels scikit-learn seaborn matplotlib"
   ]
  },
  {
   "cell_type": "markdown",
   "id": "4ef9efb1-abea-4252-9195-9b25a9842203",
   "metadata": {},
   "source": [
    "## Install and Running Example Dataset for Preeclampsia"
   ]
  },
  {
   "cell_type": "markdown",
   "id": "9251f1eb-b7d9-464a-a741-40d6c7299fa4",
   "metadata": {},
   "source": [
    "#### 1. Installing Environment from https://github.com/cfarkas/preeclampsia_ml - Esperar hasta que el asterisco [*] desaparezca!"
   ]
  },
  {
   "cell_type": "code",
   "execution_count": null,
   "id": "ff64f516-5c4f-4754-acb9-2bf58d9c644a",
   "metadata": {},
   "outputs": [],
   "source": [
    "%run main.py --install_conda"
   ]
  },
  {
   "cell_type": "markdown",
   "id": "5e79d4bb-2390-477e-9f1d-55b3799eaac9",
   "metadata": {},
   "source": [
    "#### 2. Run the full pipeline"
   ]
  },
  {
   "cell_type": "code",
   "execution_count": null,
   "id": "b84ac95d-5ea3-44c1-a7cf-36e402ec59cc",
   "metadata": {
    "scrolled": true
   },
   "outputs": [],
   "source": [
    "### 2. Run the full pipeline\n",
    "%run main.py --input dataframe.csv --output ./runs/preeclampsia_example/"
   ]
  },
  {
   "cell_type": "markdown",
   "id": "d1916933-91ab-4951-b714-dc57686ef195",
   "metadata": {},
   "source": [
    "#### 3. Running Dataset_Pregnancy_Outcomes"
   ]
  },
  {
   "cell_type": "code",
   "execution_count": null,
   "id": "38a93890-abf2-406e-a3e3-545ac25112e9",
   "metadata": {},
   "outputs": [],
   "source": [
    "# Dataset_Pregnancy_Outcomes\n",
    "%run main_agnostic.py \\\n",
    "  --input \"Dataset_Pregnancy_Outcomes.csv\" \\\n",
    "  --output \"runs/preg_all_pca\" \\\n",
    "  --outcomes \"Class_PTB,Class_Macrosomia\" \\\n",
    "  --drop-missing \\\n",
    "  --pca \\\n",
    "  --width_fig1 28 --height_fig1 22 \\\n",
    "  --width_fig2 18 --height_fig2 6 \\\n",
    "  --width_fig3 22 --height_fig3 16"
   ]
  },
  {
   "cell_type": "markdown",
   "id": "a286be21-3c30-4ddb-b877-8a23cbb44f1a",
   "metadata": {},
   "source": [
    "#### 4. Running Dataset_Pregnancy_Outcomes - exclude third‑trimester predictors, and replace missing predictors with zeros"
   ]
  },
  {
   "cell_type": "code",
   "execution_count": null,
   "id": "e78882d5-06eb-4a1f-9a77-1be65966ba83",
   "metadata": {},
   "outputs": [],
   "source": [
    "# Dataset_Pregnancy_Outcomes: GDM = yes only, exclude third‑trimester predictors, and replace missing predictors with zeros:\n",
    "%run main_agnostic.py \\\n",
    "  --input \"Dataset_Pregnancy_Outcomes.csv\" \\\n",
    "  --output \"runs/preg_gdm_yes_no3T_zeros\" \\\n",
    "  --outcomes \"Class_PTB,Class_Macrosomia\" \\\n",
    "  --subset gdm_yes \\\n",
    "  --exclude_3T \\\n",
    "  --replace-with-zeros \\\n",
    "  --pca \\\n",
    "  --width_fig1 28 --height_fig1 22 \\\n",
    "  --width_fig2 18 --height_fig2 6 \\\n",
    "  --width_fig3 22 --height_fig3 16"
   ]
  },
  {
   "cell_type": "markdown",
   "id": "1db13199-1aaf-4045-bd8d-524567900b82",
   "metadata": {},
   "source": [
    "#### 5. Running Child Obesity"
   ]
  },
  {
   "cell_type": "code",
   "execution_count": null,
   "id": "39fb79cd-9834-4527-890e-4fb7b4275d55",
   "metadata": {},
   "outputs": [],
   "source": [
    "# Child Obesity\n",
    "%run main_agnostic.py \\\n",
    "  --input \"Dataset_Child_Obesity.csv\" \\\n",
    "  --output \"runs/child_all_pca\" \\\n",
    "  --outcomes \"Clase_Sexo_1F_2M,Clase_FTO_0WT_1HET_2MUT\" \\\n",
    "  --drop-missing \\\n",
    "  --pca \\\n",
    "  --imp_dot_scale 1200 --imp_dot_min 16 \\\n",
    "  --width_fig1 22 --height_fig1 22 \\\n",
    "  --width_fig2 14 --height_fig2 4 \\\n",
    "  --width_fig3 18 --height_fig3 10"
   ]
  },
  {
   "cell_type": "markdown",
   "id": "38287157-e0c7-43b5-ae65-d47038f05953",
   "metadata": {},
   "source": [
    "#### 6. Running Child Obesity - Girls only, predict FTO, and ensure neither Sex nor FTO are used as predictors"
   ]
  },
  {
   "cell_type": "code",
   "execution_count": null,
   "id": "8743a7d8-b6dd-4222-aecd-142e585e4474",
   "metadata": {},
   "outputs": [],
   "source": [
    "# Child Obesity: Girls only, predict FTO, and ensure neither Sex nor FTO are used as predictors:\n",
    "%run main_agnostic.py \\\n",
    "  --input \"Dataset_Child_Obesity.csv\" \\\n",
    "  --output \"runs/child_girls_fto_nolabelsX\" \\\n",
    "  --outcomes \"Clase_FTO_0WT_1HET_2MUT\" \\\n",
    "  --exclude_co_labels \\\n",
    "  --replace-with-zeros \\\n",
    "  --pca \\\n",
    "  --imp_dot_scale 1200 --imp_dot_min 16 \\\n",
    "  --width_fig1 22 --height_fig1 22 \\\n",
    "  --width_fig2 14 --height_fig2 4 \\\n",
    "  --width_fig3 18 --height_fig3 10"
   ]
  },
  {
   "cell_type": "code",
   "execution_count": null,
   "id": "720e084f-59b7-48e9-a819-e837c7bbebc3",
   "metadata": {},
   "outputs": [],
   "source": []
  }
 ],
 "metadata": {
  "kernelspec": {
   "display_name": "Python 3 (ipykernel)",
   "language": "python",
   "name": "python3"
  },
  "language_info": {
   "codemirror_mode": {
    "name": "ipython",
    "version": 3
   },
   "file_extension": ".py",
   "mimetype": "text/x-python",
   "name": "python",
   "nbconvert_exporter": "python",
   "pygments_lexer": "ipython3",
   "version": "3.13.5"
  }
 },
 "nbformat": 4,
 "nbformat_minor": 5
}
